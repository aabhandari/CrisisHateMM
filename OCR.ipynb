{
 "cells": [
  {
   "cell_type": "code",
   "execution_count": 1,
   "metadata": {},
   "outputs": [],
   "source": [
    "import os\n",
    "import pandas as pd\n",
    "import cv2"
   ]
  },
  {
   "cell_type": "code",
   "execution_count": 2,
   "metadata": {},
   "outputs": [],
   "source": [
    "def detect_text(path):\n",
    "    \"\"\"Detects text in the file.\"\"\"\n",
    "    from google.cloud import vision\n",
    "    import io\n",
    "    client = vision.ImageAnnotatorClient()\n",
    "\n",
    "    with io.open(path, 'rb') as image_file:\n",
    "        content = image_file.read()\n",
    "\n",
    "    image = vision.Image(content=content)\n",
    "    \n",
    "    response = client.text_detection(image=image)\n",
    "    texts = response.text_annotations\n",
    "\n",
    "    if response.error.message:\n",
    "        raise Exception(\n",
    "            '{}\\nFor more info on error messages, check: '\n",
    "            'https://cloud.google.com/apis/design/errors'.format(\n",
    "                response.error.message))\n",
    "    \n",
    "    return texts[0].description.replace(\"\\n\", \" \").replace(\"\\t\", \" \").replace(\"\\r\", \" \")"
   ]
  },
  {
   "cell_type": "code",
   "execution_count": 31,
   "metadata": {},
   "outputs": [],
   "source": [
    "df = pd.DataFrame(columns=['filename','text'])\n",
    "i=0\n",
    "directory = 'Examples'\n",
    "src = \"C:/Users/PC/Desktop/CVPR Work/Hate/Examples/\"\n",
    "type = 'NH'\n",
    "\n",
    "for filename in sorted(os.listdir(directory)):\n",
    "    i=i+1\n",
    "    f = os.path.join(directory, filename)\n",
    "    new_filename = 'NH' +str(i)+'.jpg'\n",
    " \n",
    "    os.rename(src+filename, src+new_filename)\n",
    "    new_f = os.path.join(directory, new_filename)\n",
    "    text = detect_text(new_f)\n",
    "    df.loc[len(df.index)] = [new_filename, text] \n",
    "\n",
    "df.to_csv(type+'.csv', index= False)\n"
   ]
  },
  {
   "cell_type": "code",
   "execution_count": 21,
   "metadata": {},
   "outputs": [],
   "source": [
    "i=0\n",
    "directory = 'Examples'\n",
    "src = \"C:/Users/PC/Desktop/CVPR Work/Hate/Examples/\"\n",
    "type = 'NH'\n",
    "\n",
    "for filename in sorted(os.listdir(directory)):\n",
    "    i=i+1\n",
    "    f = os.path.join(directory, filename)\n",
    "    new_filename = 'NH' +str(i)+'.jpg'\n",
    "\n",
    "    img = cv2.imread(f)\n",
    " \n",
    "    os.rename(src+filename, src+new_filename)\n",
    "    new_f = os.path.join(directory, new_filename)\n",
    "    text = detect_text(new_f)\n",
    "    df.loc[len(df.index)] = [new_filename, text] \n",
    "\n"
   ]
  },
  {
   "cell_type": "code",
   "execution_count": 5,
   "metadata": {},
   "outputs": [],
   "source": [
    "directory = \"C:/Users/PC/Desktop/CVPR Work/Annotated_All/3 Community/\"\n",
    "i=0\n",
    "for filename in sorted(os.listdir(directory)):\n",
    "    i=i+1\n",
    "    os.rename(directory+filename, src+str(i)+'__.jpg')\n",
    "\n"
   ]
  },
  {
   "cell_type": "code",
   "execution_count": null,
   "metadata": {},
   "outputs": [],
   "source": []
  }
 ],
 "metadata": {
  "kernelspec": {
   "display_name": "torchgeo",
   "language": "python",
   "name": "python3"
  },
  "language_info": {
   "codemirror_mode": {
    "name": "ipython",
    "version": 3
   },
   "file_extension": ".py",
   "mimetype": "text/x-python",
   "name": "python",
   "nbconvert_exporter": "python",
   "pygments_lexer": "ipython3",
   "version": "3.9.13"
  },
  "orig_nbformat": 4,
  "vscode": {
   "interpreter": {
    "hash": "fc6dece94d284170ae0be7af443e2f6ed0e8c68cd32c49c9954f01dcfe6ba197"
   }
  }
 },
 "nbformat": 4,
 "nbformat_minor": 2
}
